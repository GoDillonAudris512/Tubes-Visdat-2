{
 "cells": [
  {
   "cell_type": "code",
   "execution_count": 24,
   "id": "c5534e49",
   "metadata": {},
   "outputs": [
    {
     "name": "stdout",
     "output_type": "stream",
     "text": [
      "Requirement already satisfied: kagglehub in c:\\users\\user\\appdata\\local\\programs\\python\\python311\\lib\\site-packages (0.3.12)\n",
      "Requirement already satisfied: packaging in c:\\users\\user\\appdata\\local\\programs\\python\\python311\\lib\\site-packages (from kagglehub) (23.2)\n",
      "Requirement already satisfied: pyyaml in c:\\users\\user\\appdata\\local\\programs\\python\\python311\\lib\\site-packages (from kagglehub) (6.0.2)\n",
      "Requirement already satisfied: requests in c:\\users\\user\\appdata\\local\\programs\\python\\python311\\lib\\site-packages (from kagglehub) (2.32.3)\n",
      "Requirement already satisfied: tqdm in c:\\users\\user\\appdata\\local\\programs\\python\\python311\\lib\\site-packages (from kagglehub) (4.66.5)\n",
      "Requirement already satisfied: charset-normalizer<4,>=2 in c:\\users\\user\\appdata\\local\\programs\\python\\python311\\lib\\site-packages (from requests->kagglehub) (3.3.2)\n",
      "Requirement already satisfied: idna<4,>=2.5 in c:\\users\\user\\appdata\\local\\programs\\python\\python311\\lib\\site-packages (from requests->kagglehub) (3.6)\n",
      "Requirement already satisfied: urllib3<3,>=1.21.1 in c:\\users\\user\\appdata\\local\\programs\\python\\python311\\lib\\site-packages (from requests->kagglehub) (2.1.0)\n",
      "Requirement already satisfied: certifi>=2017.4.17 in c:\\users\\user\\appdata\\local\\programs\\python\\python311\\lib\\site-packages (from requests->kagglehub) (2023.11.17)\n",
      "Requirement already satisfied: colorama in c:\\users\\user\\appdata\\roaming\\python\\python311\\site-packages (from tqdm->kagglehub) (0.4.6)\n",
      "Note: you may need to restart the kernel to use updated packages.\n"
     ]
    },
    {
     "name": "stderr",
     "output_type": "stream",
     "text": [
      "\n",
      "[notice] A new release of pip is available: 24.2 -> 25.1.1\n",
      "[notice] To update, run: python.exe -m pip install --upgrade pip\n"
     ]
    }
   ],
   "source": [
    "pip install kagglehub"
   ]
  },
  {
   "cell_type": "code",
   "execution_count": 25,
   "id": "21ff4010",
   "metadata": {},
   "outputs": [
    {
     "name": "stderr",
     "output_type": "stream",
     "text": [
      "C:\\Users\\user\\AppData\\Local\\Temp\\ipykernel_26368\\3746379681.py:8: DeprecationWarning: load_dataset is deprecated and will be removed in a future version.\n",
      "  df = kagglehub.load_dataset(\n"
     ]
    }
   ],
   "source": [
    "import kagglehub\n",
    "from kagglehub import KaggleDatasetAdapter\n",
    "\n",
    "# Set the path to the file you'd like to load\n",
    "file_path = \"layoffs.csv\"\n",
    "\n",
    "# Load the latest version\n",
    "df = kagglehub.load_dataset(\n",
    "  KaggleDatasetAdapter.PANDAS,\n",
    "  \"swaptr/layoffs-2022\",\n",
    "  file_path,\n",
    ")"
   ]
  },
  {
   "cell_type": "code",
   "execution_count": 26,
   "id": "c15a22d2",
   "metadata": {},
   "outputs": [
    {
     "data": {
      "text/html": [
       "<div>\n",
       "<style scoped>\n",
       "    .dataframe tbody tr th:only-of-type {\n",
       "        vertical-align: middle;\n",
       "    }\n",
       "\n",
       "    .dataframe tbody tr th {\n",
       "        vertical-align: top;\n",
       "    }\n",
       "\n",
       "    .dataframe thead th {\n",
       "        text-align: right;\n",
       "    }\n",
       "</style>\n",
       "<table border=\"1\" class=\"dataframe\">\n",
       "  <thead>\n",
       "    <tr style=\"text-align: right;\">\n",
       "      <th></th>\n",
       "      <th>company</th>\n",
       "      <th>location</th>\n",
       "      <th>total_laid_off</th>\n",
       "      <th>date</th>\n",
       "      <th>percentage_laid_off</th>\n",
       "      <th>industry</th>\n",
       "      <th>source</th>\n",
       "      <th>stage</th>\n",
       "      <th>funds_raised</th>\n",
       "      <th>country</th>\n",
       "      <th>date_added</th>\n",
       "    </tr>\n",
       "  </thead>\n",
       "  <tbody>\n",
       "    <tr>\n",
       "      <th>0</th>\n",
       "      <td>GroundGame Health</td>\n",
       "      <td>Tampa Bay</td>\n",
       "      <td>97.0</td>\n",
       "      <td>5/15/2025</td>\n",
       "      <td>NaN</td>\n",
       "      <td>Healthcare</td>\n",
       "      <td>https://www.bizjournals.com/tampabay/news/2025...</td>\n",
       "      <td>Series A</td>\n",
       "      <td>$17</td>\n",
       "      <td>United States</td>\n",
       "      <td>5/16/2025</td>\n",
       "    </tr>\n",
       "    <tr>\n",
       "      <th>1</th>\n",
       "      <td>Noogata</td>\n",
       "      <td>Tel Aviv,Non-U.S.</td>\n",
       "      <td>10.0</td>\n",
       "      <td>5/15/2025</td>\n",
       "      <td>100%</td>\n",
       "      <td>AI</td>\n",
       "      <td>https://www.calcalistech.com/ctechnews/article...</td>\n",
       "      <td>Series A</td>\n",
       "      <td>$28</td>\n",
       "      <td>Israel</td>\n",
       "      <td>5/16/2025</td>\n",
       "    </tr>\n",
       "    <tr>\n",
       "      <th>2</th>\n",
       "      <td>Amazon</td>\n",
       "      <td>Seattle</td>\n",
       "      <td>100.0</td>\n",
       "      <td>5/14/2025</td>\n",
       "      <td>NaN</td>\n",
       "      <td>Retail</td>\n",
       "      <td>https://www.cnbc.com/2025/05/14/amazon-lays-of...</td>\n",
       "      <td>Post-IPO</td>\n",
       "      <td>$8100</td>\n",
       "      <td>United States</td>\n",
       "      <td>5/16/2025</td>\n",
       "    </tr>\n",
       "    <tr>\n",
       "      <th>3</th>\n",
       "      <td>Microsoft</td>\n",
       "      <td>Seattle</td>\n",
       "      <td>6000.0</td>\n",
       "      <td>5/13/2025</td>\n",
       "      <td>3%</td>\n",
       "      <td>Other</td>\n",
       "      <td>https://www.cnbc.com/2025/05/13/microsoft-is-c...</td>\n",
       "      <td>Post-IPO</td>\n",
       "      <td>$1</td>\n",
       "      <td>United States</td>\n",
       "      <td>5/13/2025</td>\n",
       "    </tr>\n",
       "    <tr>\n",
       "      <th>4</th>\n",
       "      <td>Chegg</td>\n",
       "      <td>SF Bay Area</td>\n",
       "      <td>248.0</td>\n",
       "      <td>5/12/2025</td>\n",
       "      <td>22%</td>\n",
       "      <td>Education</td>\n",
       "      <td>https://www.reuters.com/world/americas/chegg-l...</td>\n",
       "      <td>Post-IPO</td>\n",
       "      <td>$227</td>\n",
       "      <td>United States</td>\n",
       "      <td>5/12/2025</td>\n",
       "    </tr>\n",
       "  </tbody>\n",
       "</table>\n",
       "</div>"
      ],
      "text/plain": [
       "             company           location  total_laid_off       date  \\\n",
       "0  GroundGame Health          Tampa Bay            97.0  5/15/2025   \n",
       "1            Noogata  Tel Aviv,Non-U.S.            10.0  5/15/2025   \n",
       "2             Amazon            Seattle           100.0  5/14/2025   \n",
       "3          Microsoft            Seattle          6000.0  5/13/2025   \n",
       "4              Chegg        SF Bay Area           248.0  5/12/2025   \n",
       "\n",
       "  percentage_laid_off    industry  \\\n",
       "0                 NaN  Healthcare   \n",
       "1                100%          AI   \n",
       "2                 NaN      Retail   \n",
       "3                  3%       Other   \n",
       "4                 22%   Education   \n",
       "\n",
       "                                              source     stage funds_raised  \\\n",
       "0  https://www.bizjournals.com/tampabay/news/2025...  Series A          $17   \n",
       "1  https://www.calcalistech.com/ctechnews/article...  Series A          $28   \n",
       "2  https://www.cnbc.com/2025/05/14/amazon-lays-of...  Post-IPO        $8100   \n",
       "3  https://www.cnbc.com/2025/05/13/microsoft-is-c...  Post-IPO           $1   \n",
       "4  https://www.reuters.com/world/americas/chegg-l...  Post-IPO         $227   \n",
       "\n",
       "         country date_added  \n",
       "0  United States  5/16/2025  \n",
       "1         Israel  5/16/2025  \n",
       "2  United States  5/16/2025  \n",
       "3  United States  5/13/2025  \n",
       "4  United States  5/12/2025  "
      ]
     },
     "execution_count": 26,
     "metadata": {},
     "output_type": "execute_result"
    }
   ],
   "source": [
    "df.head()"
   ]
  },
  {
   "cell_type": "code",
   "execution_count": 27,
   "id": "7dfcaaab",
   "metadata": {},
   "outputs": [
    {
     "data": {
      "text/plain": [
       "(4067, 11)"
      ]
     },
     "execution_count": 27,
     "metadata": {},
     "output_type": "execute_result"
    }
   ],
   "source": [
    "df.shape"
   ]
  },
  {
   "cell_type": "code",
   "execution_count": 28,
   "id": "fd6c5544",
   "metadata": {},
   "outputs": [
    {
     "data": {
      "text/html": [
       "<div>\n",
       "<style scoped>\n",
       "    .dataframe tbody tr th:only-of-type {\n",
       "        vertical-align: middle;\n",
       "    }\n",
       "\n",
       "    .dataframe tbody tr th {\n",
       "        vertical-align: top;\n",
       "    }\n",
       "\n",
       "    .dataframe thead th {\n",
       "        text-align: right;\n",
       "    }\n",
       "</style>\n",
       "<table border=\"1\" class=\"dataframe\">\n",
       "  <thead>\n",
       "    <tr style=\"text-align: right;\">\n",
       "      <th></th>\n",
       "      <th>total_laid_off</th>\n",
       "    </tr>\n",
       "  </thead>\n",
       "  <tbody>\n",
       "    <tr>\n",
       "      <th>count</th>\n",
       "      <td>2654.000000</td>\n",
       "    </tr>\n",
       "    <tr>\n",
       "      <th>mean</th>\n",
       "      <td>278.994725</td>\n",
       "    </tr>\n",
       "    <tr>\n",
       "      <th>std</th>\n",
       "      <td>962.950121</td>\n",
       "    </tr>\n",
       "    <tr>\n",
       "      <th>min</th>\n",
       "      <td>3.000000</td>\n",
       "    </tr>\n",
       "    <tr>\n",
       "      <th>25%</th>\n",
       "      <td>40.000000</td>\n",
       "    </tr>\n",
       "    <tr>\n",
       "      <th>50%</th>\n",
       "      <td>85.000000</td>\n",
       "    </tr>\n",
       "    <tr>\n",
       "      <th>75%</th>\n",
       "      <td>200.000000</td>\n",
       "    </tr>\n",
       "    <tr>\n",
       "      <th>max</th>\n",
       "      <td>22000.000000</td>\n",
       "    </tr>\n",
       "  </tbody>\n",
       "</table>\n",
       "</div>"
      ],
      "text/plain": [
       "       total_laid_off\n",
       "count     2654.000000\n",
       "mean       278.994725\n",
       "std        962.950121\n",
       "min          3.000000\n",
       "25%         40.000000\n",
       "50%         85.000000\n",
       "75%        200.000000\n",
       "max      22000.000000"
      ]
     },
     "execution_count": 28,
     "metadata": {},
     "output_type": "execute_result"
    }
   ],
   "source": [
    "df.describe()"
   ]
  },
  {
   "cell_type": "code",
   "execution_count": 29,
   "id": "9b30a4c3",
   "metadata": {},
   "outputs": [
    {
     "data": {
      "text/plain": [
       "company                   0\n",
       "location                  1\n",
       "total_laid_off         1413\n",
       "date                      0\n",
       "percentage_laid_off    1480\n",
       "industry                  1\n",
       "source                    3\n",
       "stage                     7\n",
       "funds_raised            447\n",
       "country                   0\n",
       "date_added                0\n",
       "dtype: int64"
      ]
     },
     "execution_count": 29,
     "metadata": {},
     "output_type": "execute_result"
    }
   ],
   "source": [
    "df.isnull().sum()"
   ]
  },
  {
   "cell_type": "code",
   "execution_count": 30,
   "id": "f48bc17c",
   "metadata": {},
   "outputs": [],
   "source": [
    "df.dropna(subset=['location', 'total_laid_off', 'industry', 'stage', 'source'], inplace=True)"
   ]
  },
  {
   "cell_type": "code",
   "execution_count": 31,
   "id": "bdeccb3c",
   "metadata": {},
   "outputs": [
    {
     "data": {
      "text/plain": [
       "company                  0\n",
       "location                 0\n",
       "total_laid_off           0\n",
       "date                     0\n",
       "percentage_laid_off    812\n",
       "industry                 0\n",
       "source                   0\n",
       "stage                    0\n",
       "funds_raised           256\n",
       "country                  0\n",
       "date_added               0\n",
       "dtype: int64"
      ]
     },
     "execution_count": 31,
     "metadata": {},
     "output_type": "execute_result"
    }
   ],
   "source": [
    "df.isnull().sum()"
   ]
  },
  {
   "cell_type": "code",
   "execution_count": 32,
   "id": "93dcfbb7",
   "metadata": {},
   "outputs": [
    {
     "data": {
      "text/plain": [
       "0"
      ]
     },
     "execution_count": 32,
     "metadata": {},
     "output_type": "execute_result"
    }
   ],
   "source": [
    "df.duplicated().sum()"
   ]
  },
  {
   "cell_type": "code",
   "execution_count": 33,
   "id": "22311bb1",
   "metadata": {},
   "outputs": [],
   "source": [
    "import matplotlib.pyplot as plt\n",
    "import seaborn as sns"
   ]
  },
  {
   "cell_type": "code",
   "execution_count": 34,
   "id": "1aed4ef5",
   "metadata": {},
   "outputs": [
    {
     "data": {
      "image/png": "[encoded data removed]",
      "text/plain": [
       "<Figure size 640x480 with 1 Axes>"
      ]
     },
     "metadata": {},
     "output_type": "display_data"
    }
   ],
   "source": [
    "sns.histplot(data=df, x='total_laid_off', bins=30, kde=True)\n",
    "plt.show()"
   ]
  },
  {
   "cell_type": "code",
   "execution_count": 35,
   "id": "481055c8",
   "metadata": {},
   "outputs": [
    {
     "data": {
      "text/plain": [
       "(2650, 11)"
      ]
     },
     "execution_count": 35,
     "metadata": {},
     "output_type": "execute_result"
    }
   ],
   "source": [
    "df.shape"
   ]
  },
  {
   "cell_type": "code",
   "execution_count": null,
   "id": "598a397c",
   "metadata": {},
   "outputs": [
    {
     "name": "stdout",
     "output_type": "stream",
     "text": [
      "2648\n"
     ]
    }
   ],
   "source": [
    "count = (df['total_laid_off'] < 1000).sum()\n",
    "print(count)\n",
    "#ok fine (note: dicoba jadi variable thresholdnya)"
   ]
  },
  {
   "cell_type": "code",
   "execution_count": 37,
   "id": "3f2657c7",
   "metadata": {},
   "outputs": [
    {
     "data": {
      "image/png": "[encoded data removed]",
      "text/plain": [
       "<Figure size 640x480 with 1 Axes>"
      ]
     },
     "metadata": {},
     "output_type": "display_data"
    }
   ],
   "source": [
    "sns.countplot(data=df, x='industry')\n",
    "plt.show()"
   ]
  },
  {
   "cell_type": "code",
   "execution_count": 38,
   "id": "3297b273",
   "metadata": {},
   "outputs": [
    {
     "data": {
      "image/png": "[encoded data removed]",
      "text/plain": [
       "<Figure size 640x480 with 1 Axes>"
      ]
     },
     "metadata": {},
     "output_type": "display_data"
    }
   ],
   "source": [
    "sns.countplot(data=df, x='country')\n",
    "plt.show()"
   ]
  },
  {
   "cell_type": "code",
   "execution_count": 42,
   "id": "25437852",
   "metadata": {},
   "outputs": [
    {
     "data": {
      "image/png": "[encoded data removed]",
      "text/plain": [
       "<Figure size 640x480 with 1 Axes>"
      ]
     },
     "metadata": {},
     "output_type": "display_data"
    }
   ],
   "source": [
    "sns.countplot(data=df, x='stage')\n",
    "plt.show()"
   ]
  },
  {
   "cell_type": "code",
   "execution_count": 45,
   "id": "8de25f4a",
   "metadata": {},
   "outputs": [
    {
     "data": {
      "text/html": [
       "<div>\n",
       "<style scoped>\n",
       "    .dataframe tbody tr th:only-of-type {\n",
       "        vertical-align: middle;\n",
       "    }\n",
       "\n",
       "    .dataframe tbody tr th {\n",
       "        vertical-align: top;\n",
       "    }\n",
       "\n",
       "    .dataframe thead th {\n",
       "        text-align: right;\n",
       "    }\n",
       "</style>\n",
       "<table border=\"1\" class=\"dataframe\">\n",
       "  <thead>\n",
       "    <tr style=\"text-align: right;\">\n",
       "      <th></th>\n",
       "      <th>company</th>\n",
       "      <th>location</th>\n",
       "      <th>total_laid_off</th>\n",
       "      <th>date</th>\n",
       "      <th>percentage_laid_off</th>\n",
       "      <th>industry</th>\n",
       "      <th>source</th>\n",
       "      <th>stage</th>\n",
       "      <th>funds_raised</th>\n",
       "      <th>country</th>\n",
       "      <th>date_added</th>\n",
       "    </tr>\n",
       "  </thead>\n",
       "  <tbody>\n",
       "    <tr>\n",
       "      <th>23</th>\n",
       "      <td>Intel</td>\n",
       "      <td>Sacramento</td>\n",
       "      <td>22000.0</td>\n",
       "      <td>4/23/2025</td>\n",
       "      <td>20%</td>\n",
       "      <td>Hardware</td>\n",
       "      <td>https://www.bloomberg.com/news/articles/2025-0...</td>\n",
       "      <td>Post-IPO</td>\n",
       "      <td>$12</td>\n",
       "      <td>United States</td>\n",
       "      <td>4/23/2025</td>\n",
       "    </tr>\n",
       "    <tr>\n",
       "      <th>334</th>\n",
       "      <td>Intel</td>\n",
       "      <td>SF Bay Area</td>\n",
       "      <td>15000.0</td>\n",
       "      <td>8/1/2024</td>\n",
       "      <td>15%</td>\n",
       "      <td>Hardware</td>\n",
       "      <td>https://www.intel.com/content/www/us/en/newsro...</td>\n",
       "      <td>Post-IPO</td>\n",
       "      <td>$12</td>\n",
       "      <td>United States</td>\n",
       "      <td>8/1/2024</td>\n",
       "    </tr>\n",
       "    <tr>\n",
       "      <th>500</th>\n",
       "      <td>Tesla</td>\n",
       "      <td>Austin</td>\n",
       "      <td>14000.0</td>\n",
       "      <td>4/15/2024</td>\n",
       "      <td>10%</td>\n",
       "      <td>Transportation</td>\n",
       "      <td>https://www.nytimes.com/2024/04/15/business/te...</td>\n",
       "      <td>Post-IPO</td>\n",
       "      <td>$20200</td>\n",
       "      <td>United States</td>\n",
       "      <td>4/15/2024</td>\n",
       "    </tr>\n",
       "    <tr>\n",
       "      <th>1968</th>\n",
       "      <td>Google</td>\n",
       "      <td>SF Bay Area</td>\n",
       "      <td>12000.0</td>\n",
       "      <td>1/20/2023</td>\n",
       "      <td>6%</td>\n",
       "      <td>Consumer</td>\n",
       "      <td>https://www.nytimes.com/2023/01/20/business/go...</td>\n",
       "      <td>Post-IPO</td>\n",
       "      <td>$26</td>\n",
       "      <td>United States</td>\n",
       "      <td>1/20/2023</td>\n",
       "    </tr>\n",
       "    <tr>\n",
       "      <th>2452</th>\n",
       "      <td>Meta</td>\n",
       "      <td>SF Bay Area</td>\n",
       "      <td>11000.0</td>\n",
       "      <td>11/9/2022</td>\n",
       "      <td>13%</td>\n",
       "      <td>Consumer</td>\n",
       "      <td>https://www.cnbc.com/2022/11/09/meta-to-lay-of...</td>\n",
       "      <td>Post-IPO</td>\n",
       "      <td>$26000</td>\n",
       "      <td>United States</td>\n",
       "      <td>11/9/2022</td>\n",
       "    </tr>\n",
       "    <tr>\n",
       "      <th>2001</th>\n",
       "      <td>Microsoft</td>\n",
       "      <td>Seattle</td>\n",
       "      <td>10000.0</td>\n",
       "      <td>1/18/2023</td>\n",
       "      <td>5%</td>\n",
       "      <td>Other</td>\n",
       "      <td>https://www.usatoday.com/story/money/2023/01/1...</td>\n",
       "      <td>Post-IPO</td>\n",
       "      <td>$1</td>\n",
       "      <td>United States</td>\n",
       "      <td>1/18/2023</td>\n",
       "    </tr>\n",
       "    <tr>\n",
       "      <th>2384</th>\n",
       "      <td>Amazon</td>\n",
       "      <td>Seattle</td>\n",
       "      <td>10000.0</td>\n",
       "      <td>11/16/2022</td>\n",
       "      <td>3%</td>\n",
       "      <td>Retail</td>\n",
       "      <td>https://www.nytimes.com/2022/11/14/technology/...</td>\n",
       "      <td>Post-IPO</td>\n",
       "      <td>$108</td>\n",
       "      <td>United States</td>\n",
       "      <td>11/16/2022</td>\n",
       "    </tr>\n",
       "    <tr>\n",
       "      <th>1643</th>\n",
       "      <td>Meta</td>\n",
       "      <td>SF Bay Area</td>\n",
       "      <td>10000.0</td>\n",
       "      <td>3/14/2023</td>\n",
       "      <td>NaN</td>\n",
       "      <td>Consumer</td>\n",
       "      <td>https://about.fb.com/news/2023/03/mark-zuckerb...</td>\n",
       "      <td>Post-IPO</td>\n",
       "      <td>$26000</td>\n",
       "      <td>United States</td>\n",
       "      <td>3/14/2023</td>\n",
       "    </tr>\n",
       "    <tr>\n",
       "      <th>1626</th>\n",
       "      <td>Amazon</td>\n",
       "      <td>Seattle</td>\n",
       "      <td>9000.0</td>\n",
       "      <td>3/20/2023</td>\n",
       "      <td>NaN</td>\n",
       "      <td>Retail</td>\n",
       "      <td>https://www.cnbc.com/2023/03/20/amazon-layoffs...</td>\n",
       "      <td>Post-IPO</td>\n",
       "      <td>$108</td>\n",
       "      <td>United States</td>\n",
       "      <td>3/20/2023</td>\n",
       "    </tr>\n",
       "    <tr>\n",
       "      <th>1713</th>\n",
       "      <td>Ericsson</td>\n",
       "      <td>Stockholm,Non-U.S.</td>\n",
       "      <td>8500.0</td>\n",
       "      <td>2/24/2023</td>\n",
       "      <td>8%</td>\n",
       "      <td>Other</td>\n",
       "      <td>https://www.reuters.com/business/media-telecom...</td>\n",
       "      <td>Post-IPO</td>\n",
       "      <td>$663</td>\n",
       "      <td>Sweden</td>\n",
       "      <td>2/24/2023</td>\n",
       "    </tr>\n",
       "    <tr>\n",
       "      <th>685</th>\n",
       "      <td>SAP</td>\n",
       "      <td>Walldorf,Non-U.S.</td>\n",
       "      <td>8000.0</td>\n",
       "      <td>1/23/2024</td>\n",
       "      <td>7%</td>\n",
       "      <td>Other</td>\n",
       "      <td>https://www.cnbc.com/2024/01/23/sap-plans-job-...</td>\n",
       "      <td>Post-IPO</td>\n",
       "      <td>$1300</td>\n",
       "      <td>Germany</td>\n",
       "      <td>1/24/2024</td>\n",
       "    </tr>\n",
       "    <tr>\n",
       "      <th>2144</th>\n",
       "      <td>Salesforce</td>\n",
       "      <td>SF Bay Area</td>\n",
       "      <td>8000.0</td>\n",
       "      <td>1/4/2023</td>\n",
       "      <td>10%</td>\n",
       "      <td>Sales</td>\n",
       "      <td>https://www.nytimes.com/2023/01/04/business/sa...</td>\n",
       "      <td>Post-IPO</td>\n",
       "      <td>$65</td>\n",
       "      <td>United States</td>\n",
       "      <td>1/4/2023</td>\n",
       "    </tr>\n",
       "    <tr>\n",
       "      <th>2143</th>\n",
       "      <td>Amazon</td>\n",
       "      <td>Seattle</td>\n",
       "      <td>8000.0</td>\n",
       "      <td>1/4/2023</td>\n",
       "      <td>2%</td>\n",
       "      <td>Retail</td>\n",
       "      <td>https://www.wsj.com/articles/amazon-to-lay-off...</td>\n",
       "      <td>Post-IPO</td>\n",
       "      <td>$108</td>\n",
       "      <td>United States</td>\n",
       "      <td>1/5/2023</td>\n",
       "    </tr>\n",
       "    <tr>\n",
       "      <th>1501</th>\n",
       "      <td>Flink</td>\n",
       "      <td>Berlin,Non-U.S.</td>\n",
       "      <td>8000.0</td>\n",
       "      <td>4/24/2023</td>\n",
       "      <td>40%</td>\n",
       "      <td>Food</td>\n",
       "      <td>https://www.manager-magazin.de/unternehmen/tec...</td>\n",
       "      <td>Series B</td>\n",
       "      <td>$1000</td>\n",
       "      <td>Germany</td>\n",
       "      <td>4/25/2023</td>\n",
       "    </tr>\n",
       "    <tr>\n",
       "      <th>1829</th>\n",
       "      <td>Dell</td>\n",
       "      <td>Austin</td>\n",
       "      <td>6650.0</td>\n",
       "      <td>2/6/2023</td>\n",
       "      <td>5%</td>\n",
       "      <td>Hardware</td>\n",
       "      <td>https://www.bloomberg.com/news/articles/2023-0...</td>\n",
       "      <td>Post-IPO</td>\n",
       "      <td>NaN</td>\n",
       "      <td>United States</td>\n",
       "      <td>2/6/2023</td>\n",
       "    </tr>\n",
       "  </tbody>\n",
       "</table>\n",
       "</div>"
      ],
      "text/plain": [
       "         company            location  total_laid_off        date  \\\n",
       "23         Intel          Sacramento         22000.0   4/23/2025   \n",
       "334        Intel         SF Bay Area         15000.0    8/1/2024   \n",
       "500        Tesla              Austin         14000.0   4/15/2024   \n",
       "1968      Google         SF Bay Area         12000.0   1/20/2023   \n",
       "2452        Meta         SF Bay Area         11000.0   11/9/2022   \n",
       "2001   Microsoft             Seattle         10000.0   1/18/2023   \n",
       "2384      Amazon             Seattle         10000.0  11/16/2022   \n",
       "1643        Meta         SF Bay Area         10000.0   3/14/2023   \n",
       "1626      Amazon             Seattle          9000.0   3/20/2023   \n",
       "1713    Ericsson  Stockholm,Non-U.S.          8500.0   2/24/2023   \n",
       "685          SAP   Walldorf,Non-U.S.          8000.0   1/23/2024   \n",
       "2144  Salesforce         SF Bay Area          8000.0    1/4/2023   \n",
       "2143      Amazon             Seattle          8000.0    1/4/2023   \n",
       "1501       Flink     Berlin,Non-U.S.          8000.0   4/24/2023   \n",
       "1829        Dell              Austin          6650.0    2/6/2023   \n",
       "\n",
       "     percentage_laid_off        industry  \\\n",
       "23                   20%        Hardware   \n",
       "334                  15%        Hardware   \n",
       "500                  10%  Transportation   \n",
       "1968                  6%        Consumer   \n",
       "2452                 13%        Consumer   \n",
       "2001                  5%           Other   \n",
       "2384                  3%          Retail   \n",
       "1643                 NaN        Consumer   \n",
       "1626                 NaN          Retail   \n",
       "1713                  8%           Other   \n",
       "685                   7%           Other   \n",
       "2144                 10%           Sales   \n",
       "2143                  2%          Retail   \n",
       "1501                 40%            Food   \n",
       "1829                  5%        Hardware   \n",
       "\n",
       "                                                 source     stage  \\\n",
       "23    https://www.bloomberg.com/news/articles/2025-0...  Post-IPO   \n",
       "334   https://www.intel.com/content/www/us/en/newsro...  Post-IPO   \n",
       "500   https://www.nytimes.com/2024/04/15/business/te...  Post-IPO   \n",
       "1968  https://www.nytimes.com/2023/01/20/business/go...  Post-IPO   \n",
       "2452  https://www.cnbc.com/2022/11/09/meta-to-lay-of...  Post-IPO   \n",
       "2001  https://www.usatoday.com/story/money/2023/01/1...  Post-IPO   \n",
       "2384  https://www.nytimes.com/2022/11/14/technology/...  Post-IPO   \n",
       "1643  https://about.fb.com/news/2023/03/mark-zuckerb...  Post-IPO   \n",
       "1626  https://www.cnbc.com/2023/03/20/amazon-layoffs...  Post-IPO   \n",
       "1713  https://www.reuters.com/business/media-telecom...  Post-IPO   \n",
       "685   https://www.cnbc.com/2024/01/23/sap-plans-job-...  Post-IPO   \n",
       "2144  https://www.nytimes.com/2023/01/04/business/sa...  Post-IPO   \n",
       "2143  https://www.wsj.com/articles/amazon-to-lay-off...  Post-IPO   \n",
       "1501  https://www.manager-magazin.de/unternehmen/tec...  Series B   \n",
       "1829  https://www.bloomberg.com/news/articles/2023-0...  Post-IPO   \n",
       "\n",
       "     funds_raised        country  date_added  \n",
       "23            $12  United States   4/23/2025  \n",
       "334           $12  United States    8/1/2024  \n",
       "500        $20200  United States   4/15/2024  \n",
       "1968          $26  United States   1/20/2023  \n",
       "2452       $26000  United States   11/9/2022  \n",
       "2001           $1  United States   1/18/2023  \n",
       "2384         $108  United States  11/16/2022  \n",
       "1643       $26000  United States   3/14/2023  \n",
       "1626         $108  United States   3/20/2023  \n",
       "1713         $663         Sweden   2/24/2023  \n",
       "685         $1300        Germany   1/24/2024  \n",
       "2144          $65  United States    1/4/2023  \n",
       "2143         $108  United States    1/5/2023  \n",
       "1501        $1000        Germany   4/25/2023  \n",
       "1829          NaN  United States    2/6/2023  "
      ]
     },
     "execution_count": 45,
     "metadata": {},
     "output_type": "execute_result"
    }
   ],
   "source": [
    "df.sort_values(by='total_laid_off', ascending=False).head(15)"
   ]
  }
 ],
 "metadata": {
  "kernelspec": {
   "display_name": "Python 3",
   "language": "python",
   "name": "python3"
  },
  "language_info": {
   "codemirror_mode": {
    "name": "ipython",
    "version": 3
   },
   "file_extension": ".py",
   "mimetype": "text/x-python",
   "name": "python",
   "nbconvert_exporter": "python",
   "pygments_lexer": "ipython3",
   "version": "3.11.6"
  }
 },
 "nbformat": 4,
 "nbformat_minor": 5
}
